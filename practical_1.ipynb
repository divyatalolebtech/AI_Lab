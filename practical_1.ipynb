{
  "cells": [
    {
      "cell_type": "code",
      "execution_count": null,
      "id": "9f350df8-c5b0-484c-bdfd-fea0f790f0af",
      "metadata": {
        "id": "9f350df8-c5b0-484c-bdfd-fea0f790f0af",
        "outputId": "a389b4a2-d7e3-4e8e-bec1-ee09164a5553"
      },
      "outputs": [
        {
          "name": "stdout",
          "output_type": "stream",
          "text": [
            "Following is Breadth First Traversal (starting from vertex 2)\n",
            "2 0 3 1 "
          ]
        }
      ],
      "source": [
        "from collections import defaultdict\n",
        "\n",
        "class Graph:\n",
        "    def __init__(self):\n",
        "        self.graph = defaultdict(list)\n",
        "\n",
        "    def addEdge(self, u, v):\n",
        "        self.graph[u].append(v)\n",
        "\n",
        "    def BFS(self, s):\n",
        "        visited = [False] * (max(self.graph) + 1)\n",
        "        queue = []\n",
        "        queue.append(s)\n",
        "        visited[s] = True\n",
        "\n",
        "        while queue:\n",
        "            s = queue.pop(0)\n",
        "            print(s, end=\" \")\n",
        "            for i in self.graph[s]:\n",
        "                if not visited[i]:\n",
        "                    queue.append(i)\n",
        "                    visited[i] = True\n",
        "\n",
        "if __name__ == '__main__':\n",
        "    g = Graph()\n",
        "    g.addEdge(0, 1)\n",
        "    g.addEdge(0, 2)\n",
        "    g.addEdge(1, 2)\n",
        "    g.addEdge(2, 0)\n",
        "    g.addEdge(2, 3)\n",
        "    g.addEdge(3, 3)\n",
        "\n",
        "    print(\"Following is Breadth First Traversal\"\n",
        "        \" (starting from vertex 2)\")\n",
        "    g.BFS(2)"
      ]
    }
  ],
  "metadata": {
    "kernelspec": {
      "display_name": "Python 3 (ipykernel)",
      "language": "python",
      "name": "python3"
    },
    "language_info": {
      "codemirror_mode": {
        "name": "ipython",
        "version": 3
      },
      "file_extension": ".py",
      "mimetype": "text/x-python",
      "name": "python",
      "nbconvert_exporter": "python",
      "pygments_lexer": "ipython3",
      "version": "3.12.4"
    },
    "colab": {
      "provenance": []
    }
  },
  "nbformat": 4,
  "nbformat_minor": 5
}