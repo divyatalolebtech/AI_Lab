{
  "nbformat": 4,
  "nbformat_minor": 0,
  "metadata": {
    "colab": {
      "provenance": []
    },
    "kernelspec": {
      "name": "python3",
      "display_name": "Python 3"
    },
    "language_info": {
      "name": "python"
    }
  },
  "cells": [
    {
      "cell_type": "markdown",
      "source": [
        "# **Practical 11**"
      ],
      "metadata": {
        "id": "j5fQiJvPdlHB"
      }
    },
    {
      "cell_type": "code",
      "source": [
        "import nltk\n",
        "from nltk.sentiment import SentimentIntensityAnalyzer\n",
        "\n",
        "# Download VADER lexicon\n",
        "nltk.download('vader_lexicon')\n",
        "\n",
        "# Initialize the Sentiment Intensity Analyzer\n",
        "sia = SentimentIntensityAnalyzer()\n",
        "\n",
        "# Function to apply VADER sentiment analysis\n",
        "def get_sentiment(text):\n",
        "    score = sia.polarity_scores(text)\n",
        "    compound_score = score['compound']\n",
        "    if compound_score >= 0.05:\n",
        "        return \"Positive\"\n",
        "    elif compound_score <= -0.05:\n",
        "        return \"Negative\"\n",
        "    else:\n",
        "        return \"Neutral\"\n",
        "\n",
        "# Apply sentiment analysis to the comments\n",
        "df[\"Sentiment\"] = df[\"ProcessedComment\"].apply(get_sentiment)\n",
        "\n",
        "# Example of results\n",
        "print(df[['ProcessedComment', 'Sentiment']].head())\n"
      ],
      "metadata": {
        "colab": {
          "base_uri": "https://localhost:8080/"
        },
        "id": "i1EZyeZUdnX6",
        "outputId": "356df67a-4457-46a3-91b2-83daaa268c5b"
      },
      "execution_count": null,
      "outputs": [
        {
          "output_type": "stream",
          "name": "stdout",
          "text": [
            "                   ProcessedComment Sentiment\n",
            "0                                     Neutral\n",
            "1  found solut biggest hair problem  Negative\n",
            "2                             excit   Neutral\n",
            "3             glad let us know work  Positive\n",
            "4               definit gonna share  Positive\n"
          ]
        },
        {
          "output_type": "stream",
          "name": "stderr",
          "text": [
            "[nltk_data] Downloading package vader_lexicon to /root/nltk_data...\n",
            "[nltk_data]   Package vader_lexicon is already up-to-date!\n"
          ]
        }
      ]
    },
    {
      "cell_type": "code",
      "source": [
        "# Function to generate insights based on sentiment\n",
        "def generate_insight(sentiment):\n",
        "    if sentiment == \"Positive\":\n",
        "        return \"Thank the user and encourage more engagement.\"\n",
        "    elif sentiment == \"Negative\":\n",
        "        return \"Apologize for the issue and suggest a solution.\"\n",
        "    else:\n",
        "        return \"Thank the user and offer assistance if needed.\"\n",
        "\n",
        "# Apply the sentiment analysis and insights generation to the comments\n",
        "df[\"Sentiment\"] = df[\"ProcessedComment\"].apply(get_sentiment)\n",
        "df[\"Insight\"] = df[\"Sentiment\"].apply(generate_insight)\n",
        "\n",
        "# Example of results\n",
        "print(df[['ProcessedComment', 'Sentiment', 'Insight']].head())\n",
        "\n"
      ],
      "metadata": {
        "colab": {
          "base_uri": "https://localhost:8080/"
        },
        "id": "WqlsQ6sod5DM",
        "outputId": "d0fbdc78-5656-444e-cf0a-c72e60cc6fd0"
      },
      "execution_count": null,
      "outputs": [
        {
          "output_type": "stream",
          "name": "stdout",
          "text": [
            "                   ProcessedComment Sentiment  \\\n",
            "0                                     Neutral   \n",
            "1  found solut biggest hair problem  Negative   \n",
            "2                             excit   Neutral   \n",
            "3             glad let us know work  Positive   \n",
            "4               definit gonna share  Positive   \n",
            "\n",
            "                                           Insight  \n",
            "0   Thank the user and offer assistance if needed.  \n",
            "1  Apologize for the issue and suggest a solution.  \n",
            "2   Thank the user and offer assistance if needed.  \n",
            "3    Thank the user and encourage more engagement.  \n",
            "4    Thank the user and encourage more engagement.  \n"
          ]
        }
      ]
    }
  ]
}