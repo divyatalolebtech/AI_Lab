{
  "nbformat": 4,
  "nbformat_minor": 0,
  "metadata": {
    "colab": {
      "provenance": []
    },
    "kernelspec": {
      "name": "python3",
      "display_name": "Python 3"
    },
    "language_info": {
      "name": "python"
    }
  },
  "cells": [
    {
      "cell_type": "markdown",
      "source": [
        "# **Practical 12**"
      ],
      "metadata": {
        "id": "JTfH0PQagVUs"
      }
    },
    {
      "cell_type": "code",
      "source": [
        "from nltk.sentiment.vader import SentimentIntensityAnalyzer\n",
        "from textblob import TextBlob\n",
        "\n",
        "# Initialize the VADER SentimentIntensityAnalyzer\n",
        "sia = SentimentIntensityAnalyzer()\n",
        "\n",
        "def get_sentiment_vader(text):\n",
        "    score = sia.polarity_scores(text)\n",
        "    if score['compound'] >= 0.05:\n",
        "        return 'Positive'\n",
        "    elif score['compound'] <= -0.05:\n",
        "        return 'Negative'\n",
        "    else:\n",
        "        return 'Neutral'\n",
        "\n",
        "# Apply VADER sentiment analysis\n",
        "df['Sentiment_VADER'] = df['ProcessedComment'].apply(get_sentiment_vader)\n",
        "\n",
        "# TextBlob sentiment analysis\n",
        "def get_sentiment_textblob(text):\n",
        "    blob = TextBlob(text)\n",
        "    polarity = blob.sentiment.polarity\n",
        "    if polarity > 0:\n",
        "        return 'Positive'\n",
        "    elif polarity < 0:\n",
        "        return 'Negative'\n",
        "    else:\n",
        "        return 'Neutral'\n",
        "\n",
        "df['Sentiment_TextBlob'] = df['ProcessedComment'].apply(get_sentiment_textblob)\n",
        "\n",
        "# Display the updated DataFrame with sentiment labels\n",
        "print(df[['ProcessedComment', 'Sentiment_VADER', 'Sentiment_TextBlob']].head())\n"
      ],
      "metadata": {
        "colab": {
          "base_uri": "https://localhost:8080/"
        },
        "id": "PWZ9EzTYd47d",
        "outputId": "ad5c2ebb-2f28-4117-9d18-e90977a5efbc"
      },
      "execution_count": null,
      "outputs": [
        {
          "output_type": "stream",
          "name": "stdout",
          "text": [
            "                   ProcessedComment Sentiment_VADER Sentiment_TextBlob\n",
            "0                                           Neutral            Neutral\n",
            "1  found solut biggest hair problem        Negative            Neutral\n",
            "2                             excit         Neutral            Neutral\n",
            "3             glad let us know work        Positive           Positive\n",
            "4               definit gonna share        Positive            Neutral\n"
          ]
        }
      ]
    },
    {
      "cell_type": "code",
      "source": [
        "from sklearn.feature_extraction.text import TfidfVectorizer\n",
        "from sklearn.model_selection import train_test_split\n",
        "from sklearn.linear_model import LogisticRegression\n",
        "from sklearn.metrics import classification_report\n",
        "\n",
        "# Assuming you have labeled data for fake vs. real comments\n",
        "# df_fake_news = pd.read_csv('social_media_comments.csv')  # Load your dataset\n",
        "\n",
        "# Preprocessing (similar to Practical 5-8)\n",
        "# Vectorize the text using TF-IDF\n",
        "vectorizer = TfidfVectorizer(stop_words='english', max_features=1000)\n",
        "X = vectorizer.fit_transform(df['ProcessedComment'])\n",
        "\n",
        "# Manually labeled data (1 for Fake, 0 for Real)\n",
        "# Labels need to be created (this is just an example; in practice, you would label your comments)\n",
        "y = df['Label']  # Assuming you have a label column with 1 for fake, 0 for real\n",
        "\n",
        "# Split data into training and testing sets\n",
        "X_train, X_test, y_train, y_test = train_test_split(X, y, test_size=0.2, random_state=42)\n",
        "\n",
        "# Train a Logistic Regression model for fake news detection\n",
        "model = LogisticRegression(max_iter=200)\n",
        "model.fit(X_train, y_train)\n",
        "\n",
        "# Predictions\n",
        "y_pred = model.predict(X_test)\n",
        "\n",
        "# Evaluate the model\n",
        "print(f\"Accuracy: {accuracy_score(y_test, y_pred)}\")\n",
        "print(f\"Classification Report:\\n{classification_report(y_test, y_pred)}\")\n"
      ],
      "metadata": {
        "colab": {
          "base_uri": "https://localhost:8080/"
        },
        "id": "ywX3JUwKggIf",
        "outputId": "01b6dd50-3824-42af-86b3-94a76ccd1d52"
      },
      "execution_count": null,
      "outputs": [
        {
          "output_type": "stream",
          "name": "stdout",
          "text": [
            "Accuracy: 0.9326923076923077\n",
            "Classification Report:\n",
            "              precision    recall  f1-score   support\n",
            "\n",
            "   Complaint       0.00      0.00      0.00         2\n",
            "      Praise       0.00      0.00      0.00         2\n",
            "       Query       0.00      0.00      0.00         2\n",
            "        Spam       0.00      0.00      0.00         1\n",
            "         nan       0.93      1.00      0.97        97\n",
            "\n",
            "    accuracy                           0.93       104\n",
            "   macro avg       0.19      0.20      0.19       104\n",
            "weighted avg       0.87      0.93      0.90       104\n",
            "\n"
          ]
        },
        {
          "output_type": "stream",
          "name": "stderr",
          "text": [
            "/usr/local/lib/python3.11/dist-packages/sklearn/metrics/_classification.py:1565: UndefinedMetricWarning: Precision is ill-defined and being set to 0.0 in labels with no predicted samples. Use `zero_division` parameter to control this behavior.\n",
            "  _warn_prf(average, modifier, f\"{metric.capitalize()} is\", len(result))\n",
            "/usr/local/lib/python3.11/dist-packages/sklearn/metrics/_classification.py:1565: UndefinedMetricWarning: Precision is ill-defined and being set to 0.0 in labels with no predicted samples. Use `zero_division` parameter to control this behavior.\n",
            "  _warn_prf(average, modifier, f\"{metric.capitalize()} is\", len(result))\n",
            "/usr/local/lib/python3.11/dist-packages/sklearn/metrics/_classification.py:1565: UndefinedMetricWarning: Precision is ill-defined and being set to 0.0 in labels with no predicted samples. Use `zero_division` parameter to control this behavior.\n",
            "  _warn_prf(average, modifier, f\"{metric.capitalize()} is\", len(result))\n"
          ]
        }
      ]
    }
  ]
}