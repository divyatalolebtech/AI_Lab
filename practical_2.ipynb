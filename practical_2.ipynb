{
  "cells": [
    {
      "cell_type": "code",
      "execution_count": null,
      "id": "f6215b71-123e-4009-9e7b-bf779bf75c19",
      "metadata": {
        "id": "f6215b71-123e-4009-9e7b-bf779bf75c19",
        "outputId": "52ff5d72-e8d3-4360-e811-261bfca93be3"
      },
      "outputs": [
        {
          "name": "stdout",
          "output_type": "stream",
          "text": [
            "Following is Depth First Traversal (starting from vertex 2)\n",
            "2 0 1 3 "
          ]
        }
      ],
      "source": [
        "from collections import defaultdict\n",
        "\n",
        "class Graph:\n",
        "    def __init__(self):\n",
        "        self.graph = defaultdict(list)\n",
        "\n",
        "    def addEdge(self, u, v):\n",
        "        self.graph[u].append(v)\n",
        "\n",
        "    def DFSUtil(self, v, visited):\n",
        "        visited.add(v)\n",
        "        print(v, end=' ')\n",
        "        for neighbour in self.graph[v]:\n",
        "            if neighbour not in visited:\n",
        "                self.DFSUtil(neighbour, visited)\n",
        "\n",
        "    def DFS(self, v):\n",
        "        visited = set()\n",
        "        self.DFSUtil(v, visited)\n",
        "\n",
        "if __name__ == \"__main__\":\n",
        "    g = Graph()\n",
        "    g.addEdge(0, 1)\n",
        "    g.addEdge(0, 2)\n",
        "    g.addEdge(1, 2)\n",
        "    g.addEdge(2, 0)\n",
        "    g.addEdge(2, 3)\n",
        "    g.addEdge(3, 3)\n",
        "    print(\"Following is Depth First Traversal (starting from vertex 2)\")\n",
        "    g.DFS(2)"
      ]
    }
  ],
  "metadata": {
    "kernelspec": {
      "display_name": "Python 3 (ipykernel)",
      "language": "python",
      "name": "python3"
    },
    "language_info": {
      "codemirror_mode": {
        "name": "ipython",
        "version": 3
      },
      "file_extension": ".py",
      "mimetype": "text/x-python",
      "name": "python",
      "nbconvert_exporter": "python",
      "pygments_lexer": "ipython3",
      "version": "3.12.4"
    },
    "colab": {
      "provenance": []
    }
  },
  "nbformat": 4,
  "nbformat_minor": 5
}