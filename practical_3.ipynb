{
  "nbformat": 4,
  "nbformat_minor": 0,
  "metadata": {
    "colab": {
      "provenance": []
    },
    "kernelspec": {
      "name": "python3",
      "display_name": "Python 3"
    },
    "language_info": {
      "name": "python"
    }
  },
  "cells": [
    {
      "cell_type": "code",
      "execution_count": null,
      "metadata": {
        "colab": {
          "base_uri": "https://localhost:8080/"
        },
        "id": "_dIeSWVI4k83",
        "outputId": "f867eece-541a-4edb-e7e8-dbe409cb5198"
      },
      "outputs": [
        {
          "output_type": "stream",
          "name": "stdout",
          "text": [
            " .  .  Q  . \n",
            " Q  .  .  . \n",
            " .  .  .  Q \n",
            " .  Q  .  . \n"
          ]
        }
      ],
      "source": [
        "N = 4\n",
        "ld = [0] * 30\n",
        "rd = [0] * 30\n",
        "cl = [0] * 30\n",
        "\n",
        "def printSolution(board):\n",
        "    for i in range(N):\n",
        "        for j in range(N):\n",
        "            print(\" Q \" if board[i][j] == 1 else \" . \", end=\"\")\n",
        "        print()\n",
        "\n",
        "def solveNQUtil(board, col):\n",
        "    if col >= N:\n",
        "        return True\n",
        "    for i in range(N):\n",
        "        if (ld[i - col + N - 1] != 1 and rd[i + col] != 1) and cl[i] != 1:\n",
        "            board[i][col] = 1\n",
        "            ld[i - col + N - 1] = rd[i + col] = cl[i] = 1\n",
        "\n",
        "            if solveNQUtil(board, col + 1):\n",
        "                return True\n",
        "            board[i][col] = 0\n",
        "            ld[i - col + N - 1] = rd[i + col] = cl[i] = 0\n",
        "    return False\n",
        "\n",
        "def solveNQ():\n",
        "    board = [[0 for _ in range(N)] for _ in range(N)]\n",
        "\n",
        "    if not solveNQUtil(board, 0):\n",
        "        print(\"Solution does not exist\")\n",
        "        return False\n",
        "\n",
        "    printSolution(board)\n",
        "    return True\n",
        "\n",
        "if __name__ == \"__main__\":\n",
        "    solveNQ()"
      ]
    }
  ]
}