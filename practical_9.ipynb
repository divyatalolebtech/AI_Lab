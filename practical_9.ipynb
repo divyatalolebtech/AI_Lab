{
  "nbformat": 4,
  "nbformat_minor": 0,
  "metadata": {
    "colab": {
      "provenance": []
    },
    "kernelspec": {
      "name": "python3",
      "display_name": "Python 3"
    },
    "language_info": {
      "name": "python"
    }
  },
  "cells": [
    {
      "cell_type": "code",
      "execution_count": null,
      "metadata": {
        "colab": {
          "base_uri": "https://localhost:8080/"
        },
        "id": "TWszircFGOL-",
        "outputId": "4e4aee01-da9e-41f5-eba2-5179cacf7bb3"
      },
      "outputs": [
        {
          "output_type": "stream",
          "name": "stdout",
          "text": [
            "---- Binary Perceptron Model ----\n",
            "Accuracy: 1.0\n",
            "              precision    recall  f1-score   support\n",
            "\n",
            " Not Forward       1.00      1.00      1.00         2\n",
            "     Forward       1.00      1.00      1.00         1\n",
            "\n",
            "    accuracy                           1.00         3\n",
            "   macro avg       1.00      1.00      1.00         3\n",
            "weighted avg       1.00      1.00      1.00         3\n",
            "\n",
            "\n",
            "---- Multi-class Logistic Regression ----\n",
            "Accuracy: 0.6666666666666666\n",
            "              precision    recall  f1-score   support\n",
            "\n",
            "     Forward       1.00      1.00      1.00         1\n",
            "       Right       0.50      1.00      0.67         1\n",
            "        Stop       0.00      0.00      0.00         1\n",
            "\n",
            "    accuracy                           0.67         3\n",
            "   macro avg       0.50      0.67      0.56         3\n",
            "weighted avg       0.50      0.67      0.56         3\n",
            "\n"
          ]
        },
        {
          "output_type": "stream",
          "name": "stderr",
          "text": [
            "/usr/local/lib/python3.11/dist-packages/sklearn/linear_model/_logistic.py:1247: FutureWarning: 'multi_class' was deprecated in version 1.5 and will be removed in 1.7. From then on, it will always use 'multinomial'. Leave it to its default value to avoid this warning.\n",
            "  warnings.warn(\n",
            "/usr/local/lib/python3.11/dist-packages/sklearn/metrics/_classification.py:1565: UndefinedMetricWarning: Precision is ill-defined and being set to 0.0 in labels with no predicted samples. Use `zero_division` parameter to control this behavior.\n",
            "  _warn_prf(average, modifier, f\"{metric.capitalize()} is\", len(result))\n",
            "/usr/local/lib/python3.11/dist-packages/sklearn/metrics/_classification.py:1565: UndefinedMetricWarning: Precision is ill-defined and being set to 0.0 in labels with no predicted samples. Use `zero_division` parameter to control this behavior.\n",
            "  _warn_prf(average, modifier, f\"{metric.capitalize()} is\", len(result))\n",
            "/usr/local/lib/python3.11/dist-packages/sklearn/metrics/_classification.py:1565: UndefinedMetricWarning: Precision is ill-defined and being set to 0.0 in labels with no predicted samples. Use `zero_division` parameter to control this behavior.\n",
            "  _warn_prf(average, modifier, f\"{metric.capitalize()} is\", len(result))\n"
          ]
        }
      ],
      "source": [
        "import numpy as np\n",
        "import pandas as pd\n",
        "from sklearn.linear_model import Perceptron, LogisticRegression\n",
        "from sklearn.model_selection import train_test_split\n",
        "from sklearn.metrics import classification_report, accuracy_score\n",
        "from sklearn.preprocessing import LabelEncoder\n",
        "from sklearn.utils.multiclass import unique_labels\n",
        "\n",
        "# Step 1: Sample dataset (robot traversal)\n",
        "# Features: [Front Sensor, Left Sensor, Right Sensor]\n",
        "# Target (Binary): Move Forward (1) or Not Forward (0)\n",
        "# Target (Multi): Action - Forward, Left, Right, Stop\n",
        "\n",
        "data = {\n",
        "    'Front':    [1, 0, 0, 1, 0, 0, 1, 1, 0, 0, 1, 1, 0, 1],\n",
        "    'Left':     [0, 1, 0, 0, 1, 0, 1, 0, 1, 0, 0, 1, 1, 1],\n",
        "    'Right':    [0, 0, 1, 0, 0, 1, 0, 1, 0, 1, 0, 1, 1, 0],\n",
        "    'Action':   ['Forward', 'Left', 'Right', 'Forward', 'Left', 'Right',\n",
        "                 'Stop', 'Right', 'Left', 'Right', 'Forward', 'Stop', 'Left', 'Forward']\n",
        "}\n",
        "\n",
        "df = pd.DataFrame(data)\n",
        "\n",
        "# Step 2: Binary classification setup (Forward vs Not Forward)\n",
        "\n",
        "df['BinaryAction'] = df['Action'].apply(lambda x: 1 if x == 'Forward' else 0)\n",
        "\n",
        "X = df[['Front', 'Left', 'Right']]\n",
        "y_binary = df['BinaryAction']\n",
        "y_multi = df['Action']\n",
        "\n",
        "# Train-test split\n",
        "X_train_b, X_test_b, y_train_b, y_test_b = train_test_split(X, y_binary, test_size=0.2, random_state=42)\n",
        "X_train_m, X_test_m, y_train_m, y_test_m = train_test_split(X, y_multi, test_size=0.2, random_state=42)\n",
        "\n",
        "# Step 3: Binary Perceptron Model\n",
        "\n",
        "binary_model = Perceptron(max_iter=1000)\n",
        "binary_model.fit(X_train_b, y_train_b)\n",
        "y_pred_binary = binary_model.predict(X_test_b)\n",
        "\n",
        "print(\"---- Binary Perceptron Model ----\")\n",
        "print(\"Accuracy:\", accuracy_score(y_test_b, y_pred_binary))\n",
        "\n",
        "# Dynamically handle labels\n",
        "present_binary_labels = unique_labels(y_test_b, y_pred_binary)\n",
        "present_binary_names = ['Not Forward', 'Forward']\n",
        "filtered_names_binary = [present_binary_names[i] for i in present_binary_labels]\n",
        "\n",
        "print(classification_report(y_test_b, y_pred_binary, labels=present_binary_labels, target_names=filtered_names_binary))\n",
        "\n",
        "# Step 4: Multi-class Model (Logistic Regression)\n",
        "\n",
        "le = LabelEncoder()\n",
        "y_train_encoded = le.fit_transform(y_train_m)\n",
        "y_test_encoded = le.transform(y_test_m)\n",
        "\n",
        "multi_model = LogisticRegression(multi_class='multinomial', solver='lbfgs', max_iter=1000)\n",
        "multi_model.fit(X_train_m, y_train_encoded)\n",
        "y_pred_multi = multi_model.predict(X_test_m)\n",
        "\n",
        "print(\"\\n---- Multi-class Logistic Regression ----\")\n",
        "print(\"Accuracy:\", accuracy_score(y_test_encoded, y_pred_multi))\n",
        "\n",
        "# Dynamic label names\n",
        "present_multi_labels = unique_labels(y_test_encoded, y_pred_multi)\n",
        "filtered_names_multi = le.inverse_transform(present_multi_labels)\n",
        "print(classification_report(y_test_encoded, y_pred_multi, labels=present_multi_labels, target_names=filtered_names_multi))\n"
      ]
    }
  ]
}